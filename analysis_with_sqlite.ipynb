{
 "cells": [
  {
   "cell_type": "code",
   "execution_count": 1,
   "metadata": {},
   "outputs": [],
   "source": [
    "import pandas as pd\n",
    "import sqlite3\n",
    "\n",
    "# do not make a fucking dummies table\n",
    "# you're not going to use it"
   ]
  },
  {
   "cell_type": "code",
   "execution_count": 2,
   "metadata": {},
   "outputs": [],
   "source": [
    "# prepare sql database\n",
    "conn = sqlite3.connect('siege.db')\n",
    "cursor = conn.cursor()"
   ]
  },
  {
   "cell_type": "code",
   "execution_count": 3,
   "metadata": {},
   "outputs": [],
   "source": [
    "def import_data(name, drop_last = False): # imports data into python, cleans it, and imports into sql\n",
    "\n",
    "    if name == \"everything\":\n",
    "        global everything\n",
    "        \n",
    "        everything = pd.read_csv(f\"C:\\\\Users\\\\aethe\\\\OneDrive\\\\Desktop\\\\stats\\\\{name}.csv\")\n",
    "        everything = everything.drop([\"Season\", \"Warm_Up\"], axis = 1)\n",
    "        \n",
    "        # observations in Result column need to be standardized as convention changed over time\n",
    "        results = list(everything[\"Result\"])\n",
    "        results_new = []\n",
    "        for i in range(len(results)):\n",
    "            results_new.append(results[i].lower())\n",
    "        everything[\"Result\"] = results_new\n",
    "\n",
    "        everything.columns = everything.columns.str.lower()\n",
    "        \n",
    "        # import into sql\n",
    "        cursor.execute(\"drop table if exists everything\")\n",
    "        everything.to_sql(\"everything\", conn, index = False)\n",
    "    \n",
    "    else:\n",
    "        global season\n",
    "        \n",
    "        season = pd.read_csv(f\"C:\\\\Users\\\\aethe\\\\OneDrive\\\\Desktop\\\\stats\\\\{name}.csv\")\n",
    "        season = season.drop([\"Date\", \"Session\", \"Warm_Up\", \"RP\", \"ΔRP\"], axis = 1)\n",
    "        \n",
    "        if drop_last == True:\n",
    "            season = season.drop(season.tail(1).index)\n",
    "\n",
    "        season.columns = season.columns.str.lower()\n",
    "        \n",
    "        cursor.execute(\"drop table if exists season\")\n",
    "        season.to_sql(\"season\", conn, index = False)\n",
    "    return"
   ]
  },
  {
   "cell_type": "code",
   "execution_count": 4,
   "metadata": {},
   "outputs": [],
   "source": [
    "import_data(\"everything\")\n",
    "import_data(\"y8s4_deep_freeze\", drop_last = True) # change this depending on season & manual data cleanup"
   ]
  },
  {
   "cell_type": "code",
   "execution_count": 5,
   "metadata": {},
   "outputs": [],
   "source": [
    "def get_sql_columns(name): # used for building the loop below\n",
    "    cursor.execute(f\"pragma table_info({name})\")\n",
    "    column_names = [desc[1] for desc in cursor.fetchall()]\n",
    "    print(f\"{name}: {column_names}\")\n",
    "    return"
   ]
  },
  {
   "cell_type": "code",
   "execution_count": 6,
   "metadata": {},
   "outputs": [
    {
     "name": "stdout",
     "output_type": "stream",
     "text": [
      "season: ['game', 'map', 'squad_size', 'def_wins', 'def_losses', 'atk_wins', 'atk_losses', 'result', 'josh_score', 'josh_kills', 'josh_deaths', 'josh_assists', 'p1_score', 'p1_kills', 'p1_deaths', 'p1_assists', 'p2_score', 'p2_kills', 'p2_deaths', 'p2_assists', 'p3_score', 'p3_kills', 'p3_deaths', 'p3_assists', 'p4_score', 'p4_kills', 'p4_deaths', 'p4_assists', 'asa_score', 'asa_kills', 'asa_deaths', 'asa_assists', 'ed_score', 'ed_kills', 'ed_deaths', 'ed_assists', 'luke_score', 'luke_kills', 'luke_deaths', 'luke_assists']\n",
      "everything: ['game', 'map', 'squad_size', 'def_wins', 'def_losses', 'atk_wins', 'atk_losses', 'result', 'josh_score', 'josh_kills', 'josh_deaths', 'josh_assists', 'asa_score', 'asa_kills', 'asa_deaths', 'asa_assists', 'ed_score', 'ed_kills', 'ed_deaths', 'ed_assists', 'luke_score', 'luke_kills', 'luke_deaths', 'luke_assists', 'p1_score', 'p1_kills', 'p1_deaths', 'p1_assists', 'p2_score', 'p2_kills', 'p2_deaths', 'p2_assists', 'p3_score', 'p3_kills', 'p3_deaths', 'p3_assists', 'p4_score', 'p4_kills', 'p4_deaths', 'p4_assists']\n"
     ]
    }
   ],
   "source": [
    "get_sql_columns(\"season\")\n",
    "get_sql_columns(\"everything\")"
   ]
  },
  {
   "cell_type": "code",
   "execution_count": 7,
   "metadata": {},
   "outputs": [],
   "source": [
    "def get_player_data(player_name, dataframe): # gets individual player score, kills, deaths, assists, games and results\n",
    "\n",
    "    cursor.execute(f\"drop table if exists {player_name}_{dataframe}\")\n",
    "    cursor.execute(f\"create table {player_name}_{dataframe} as \\\n",
    "                   select game, map, result, {player_name}_score, {player_name}_kills, {player_name}_deaths, {player_name}_assists from {dataframe}\")\n",
    "    cursor.execute(f\"update {player_name}_{dataframe} set {player_name}_score = {player_name}_score - 2000 where result = 'win'\")\n",
    "\n",
    "    return"
   ]
  },
  {
   "cell_type": "code",
   "execution_count": 8,
   "metadata": {},
   "outputs": [],
   "source": [
    "players = [\"josh\", \"asa\", \"ed\", \"luke\",\n",
    "           \"p1\", \"p2\", \"p3\", \"p4\"]\n",
    "dataframes = [\"season\", \"everything\"]\n",
    "\n",
    "for p in players:\n",
    "    for df in dataframes:\n",
    "        get_player_data(p, df)"
   ]
  },
  {
   "cell_type": "code",
   "execution_count": 9,
   "metadata": {},
   "outputs": [],
   "source": [
    "# pull the new tables back to python\n",
    "player_tables = {f\"{p}_{df}\": pd.read_sql(f\"select * from {p}_{df}\", conn) for p in players for df in dataframes}\n",
    "\n",
    "# shorthand, also leaves original dataframe in the dictionary in case i ruin these\n",
    "josh_season, josh_everything = player_tables[\"josh_season\"], player_tables[\"josh_everything\"]\n",
    "asa_season, asa_everything = player_tables[\"asa_season\"], player_tables[\"asa_everything\"]\n",
    "ed_season, ed_everything = player_tables[\"ed_season\"], player_tables[\"ed_everything\"]\n",
    "luke_season, luke_everything = player_tables[\"luke_season\"], player_tables[\"luke_everything\"]\n",
    "p1_season, p1_everything = player_tables[\"p1_season\"], player_tables[\"p1_everything\"]\n",
    "p2_season, p2_everything = player_tables[\"p2_season\"], player_tables[\"p2_everything\"]\n",
    "p3_season, p3_everything = player_tables[\"p3_season\"], player_tables[\"p3_everything\"]\n",
    "p4_season, p4_everything = player_tables[\"p4_season\"], player_tables[\"p4_everything\"]"
   ]
  },
  {
   "cell_type": "code",
   "execution_count": 10,
   "metadata": {},
   "outputs": [],
   "source": [
    "# additional data cleanup\n",
    "\n",
    "columns = [\n",
    "                      \"Josh_Score\", \"Josh_Kills\", \"Josh_Deaths\", \"Josh_Assists\",\n",
    "                      \"Asa_Score\", \"Asa_Kills\", \"Asa_Deaths\", \"Asa_Assists\",\n",
    "                      \"Ed_Score\", \"Ed_Kills\", \"Ed_Deaths\", \"Ed_Assists\",\n",
    "                      \"Luke_Score\", \"Luke_Kills\", \"Luke_Deaths\", \"Luke_Assists\",\n",
    "                      \"P1_Score\", \"P1_Kills\", \"P1_Deaths\", \"P1_Assists\",\n",
    "                      \"P2_Score\", \"P2_Kills\", \"P2_Deaths\", \"P2_Assists\",\n",
    "                      \"P3_Score\", \"P3_Kills\", \"P3_Deaths\", \"P3_Assists\",\n",
    "                      \"P4_Score\", \"P4_Kills\", \"P4_Deaths\", \"P4_Assists\"\n",
    "]\n",
    "\n",
    "columns = [c.lower() for c in columns]\n",
    "\n",
    "season = season.drop(columns, axis = 1)\n",
    "season = season.dropna()\n",
    "\n",
    "everything = everything.drop(columns, axis = 1)\n",
    "everything = everything.dropna()\n",
    "\n",
    "# these columns have lots of empty entries that will ruin the tables if we dropna() before dropping these columns,\n",
    "# and i don't need them anymore since they're in separate tables"
   ]
  },
  {
   "cell_type": "code",
   "execution_count": 11,
   "metadata": {},
   "outputs": [],
   "source": [
    "# lists for all maps and squad sizes to iterate through\n",
    "maps = sorted(list(everything[\"map\"].unique()))\n",
    "sizes = sorted(list(everything[\"squad_size\"].unique()))"
   ]
  },
  {
   "cell_type": "code",
   "execution_count": 12,
   "metadata": {},
   "outputs": [],
   "source": [
    "# overarching statistics for use in tables\n",
    "season_wins = len(season[(season[\"result\"] == \"win\")])\n",
    "season_losses = len(season[(season[\"result\"] == \"loss\")])\n",
    "season_wl = season_wins/season_losses\n",
    "season_games = len(season)\n",
    "\n",
    "everything_wins = len(everything[(everything[\"result\"] == \"win\")])\n",
    "everything_losses = len(everything[(everything[\"result\"] == \"loss\")])\n",
    "everything_wl = everything_wins/everything_losses\n",
    "everything_games = len(everything)"
   ]
  },
  {
   "cell_type": "code",
   "execution_count": 13,
   "metadata": {},
   "outputs": [],
   "source": [
    "def win_loss_map(map_name):\n",
    "\n",
    "    global season_map_wl, season_map_games, everything_map_wl, everything_map_games\n",
    "\n",
    "    season_filtered = season[season[\"map\"] == map_name]\n",
    "    season_map_wins = len(season_filtered[(season_filtered[\"result\"] == \"win\")])\n",
    "    season_map_losses = len(season_filtered[(season_filtered[\"result\"] == \"loss\")])\n",
    "    season_map_games = len(season_filtered)\n",
    "    if season_map_losses == 0:\n",
    "        season_map_wl = season_map_wins\n",
    "    else:\n",
    "        season_map_wl = season_map_wins/season_map_losses\n",
    "\n",
    "    everything_filtered = everything[everything[\"map\"] == map_name]\n",
    "    everything_map_wins = len(everything_filtered[(everything_filtered[\"result\"] == \"win\")])\n",
    "    everything_map_losses = len(everything_filtered[(everything_filtered[\"result\"] == \"loss\")])\n",
    "    everything_map_games = len(everything_filtered)\n",
    "    if everything_map_losses == 0:\n",
    "        everything_map_wl = everything_map_wins\n",
    "    else:\n",
    "        everything_map_wl = everything_map_wins/everything_map_losses\n",
    "\n",
    "    return season_map_wl, season_map_games, everything_map_wl, everything_map_games"
   ]
  },
  {
   "cell_type": "code",
   "execution_count": 14,
   "metadata": {},
   "outputs": [],
   "source": [
    "def win_loss_squad(squad_size):\n",
    "\n",
    "    global season_squad_wl, season_squad_games, everything_squad_wl, everything_squad_games\n",
    "\n",
    "    season_filtered = season[season[\"squad_size\"] == squad_size]\n",
    "    season_squad_wins = len(season_filtered[(season_filtered[\"result\"] == \"win\")])\n",
    "    season_squad_losses = len(season_filtered[(season_filtered[\"result\"] == \"loss\")])\n",
    "    season_squad_games = len(season_filtered)\n",
    "\n",
    "    if season_squad_losses == 0:\n",
    "        season_squad_wl = season_squad_wins\n",
    "    else:\n",
    "        season_squad_wl = season_squad_wins/season_squad_losses\n",
    "\n",
    "    everything_filtered = everything[everything[\"squad_size\"] == squad_size]\n",
    "    everything_squad_wins = len(everything_filtered[(everything_filtered[\"result\"] == \"win\")])\n",
    "    everything_squad_losses = len(everything_filtered[(everything_filtered[\"result\"] == \"loss\")])\n",
    "    everything_squad_games = len(everything_filtered)\n",
    "\n",
    "    if everything_squad_losses == 0:\n",
    "        everything_squad_wl = everything_squad_wins\n",
    "    else:\n",
    "        everything_squad_wl = everything_squad_wins/everything_squad_losses\n",
    "\n",
    "    return season_squad_wl, season_squad_games, everything_squad_wl, everything_squad_games"
   ]
  },
  {
   "cell_type": "code",
   "execution_count": 15,
   "metadata": {},
   "outputs": [],
   "source": [
    "# building a win/loss table for maps\n",
    "\n",
    "wl_maps = [\"Average W/L\"]\n",
    "season_wl_ratios = [season_wl]\n",
    "season_wl_count = [\"na\"]\n",
    "everything_wl_ratios = [everything_wl]\n",
    "everything_wl_count = [\"na\"]\n",
    "# initial inputs set the first row of my final tables\n",
    "\n",
    "for m in maps:\n",
    "    win_loss_map(m)\n",
    "    wl_maps.append(m)\n",
    "    season_wl_ratios.append(season_map_wl)\n",
    "    season_wl_count.append(season_map_games)\n",
    "    everything_wl_ratios.append(everything_map_wl)\n",
    "    everything_wl_count.append(everything_map_games)\n",
    "\n",
    "wl_maps_table = pd.DataFrame({\"map\": wl_maps,\n",
    "                              \"season_wl\": season_wl_ratios,\n",
    "                              \"season_games\": season_wl_count,\n",
    "                              \"everything_wl\": everything_wl_ratios,\n",
    "                              \"everything_games\": everything_wl_count})\n",
    "wl_maps_table.to_csv(\"C:\\\\Users\\\\aethe\\\\OneDrive\\\\Desktop\\\\stats\\\\wl_maps_y8s4.csv\")"
   ]
  },
  {
   "cell_type": "code",
   "execution_count": 16,
   "metadata": {},
   "outputs": [],
   "source": [
    "# building a win/loss table for squads\n",
    "\n",
    "wl_squads = [\"Average W/L\"]\n",
    "season_wl_ratios = [season_wl]\n",
    "season_wl_count = [\"na\"]\n",
    "everything_wl_ratios = [everything_wl]\n",
    "everything_wl_count = [\"na\"]\n",
    "# initial inputs set the first row of my final tables\n",
    "\n",
    "for s in sizes:\n",
    "    win_loss_squad(s)\n",
    "    wl_squads.append(s)\n",
    "    season_wl_ratios.append(season_squad_wl)\n",
    "    season_wl_count.append(season_squad_games)\n",
    "    everything_wl_ratios.append(everything_squad_wl)\n",
    "    everything_wl_count.append(everything_squad_games)\n",
    "\n",
    "wl_squads_table = pd.DataFrame({\"size\": wl_squads,\n",
    "                                \"season_wl\": season_wl_ratios,\n",
    "                                \"season_games\": season_wl_count,\n",
    "                                \"everything_wl\": everything_wl_ratios,\n",
    "                                \"everything_games\": everything_wl_count})\n",
    "wl_squads_table.to_csv(\"C:\\\\Users\\\\aethe\\\\OneDrive\\\\Desktop\\\\stats\\\\wl_squads_y8s4.csv\")"
   ]
  },
  {
   "cell_type": "code",
   "execution_count": 17,
   "metadata": {},
   "outputs": [],
   "source": [
    "def performance(p, df): # something is going wrong, fi xit\n",
    "    \n",
    "    global avg_score, kd, wl\n",
    "\n",
    "    d = player_tables[f\"{p}_{df}\"]\n",
    "    d = d.dropna()\n",
    "    \n",
    "    total_score = d[f\"{p}_score\"].sum()\n",
    "    games = len(d)\n",
    "    \n",
    "    kills = d[f\"{p}_kills\"].sum()\n",
    "    deaths = d[f\"{p}_deaths\"].sum()\n",
    "    \n",
    "    wins = len(d[(d[\"result\"] == \"win\")])\n",
    "    losses = len(d[(d[\"result\"] == \"loss\")])\n",
    "\n",
    "    avg_score = total_score / games if games > 0 else total_score\n",
    "    kd = kills / deaths if deaths > 0 else kills\n",
    "    wl = wins / losses if losses > 0 else wins\n",
    "\n",
    "    return avg_score, kd, wl"
   ]
  },
  {
   "cell_type": "code",
   "execution_count": 18,
   "metadata": {},
   "outputs": [],
   "source": [
    "perform = pd.DataFrame()\n",
    "columns = [f\"{p}_{df}\" for p in players for df in dataframes]\n",
    "\n",
    "scores = []\n",
    "kdr = []\n",
    "wlr = []\n",
    "\n",
    "for p in players:\n",
    "    for df in dataframes:\n",
    "        performance(p, df)\n",
    "        scores.append(avg_score)\n",
    "        kdr.append(kd)\n",
    "        wlr.append(wl)\n",
    "\n",
    "perform[\"Player & Timeframe\"] = columns\n",
    "perform[\"Score\"] = scores\n",
    "perform[\"W/L\"] = wlr\n",
    "perform[\"K/D\"] = kdr\n",
    "\n",
    "perform.to_csv(\"C:\\\\Users\\\\aethe\\\\OneDrive\\\\Desktop\\\\stats\\\\performance_summary.csv\")"
   ]
  },
  {
   "cell_type": "code",
   "execution_count": null,
   "metadata": {},
   "outputs": [],
   "source": []
  }
 ],
 "metadata": {
  "kernelspec": {
   "display_name": "Python 3",
   "language": "python",
   "name": "python3"
  },
  "language_info": {
   "codemirror_mode": {
    "name": "ipython",
    "version": 3
   },
   "file_extension": ".py",
   "mimetype": "text/x-python",
   "name": "python",
   "nbconvert_exporter": "python",
   "pygments_lexer": "ipython3",
   "version": "3.9.7"
  }
 },
 "nbformat": 4,
 "nbformat_minor": 2
}
